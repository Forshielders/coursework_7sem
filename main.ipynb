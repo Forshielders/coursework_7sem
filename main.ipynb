{
 "cells": [
  {
   "cell_type": "code",
   "execution_count": 1,
   "metadata": {},
   "outputs": [],
   "source": [
    "from client_side.client import client\n",
    "from server_side.workers import phone_support\n",
    "from server_side.vm import vm_deliver\n",
    "from server_side.server import server\n",
    "from settings.statistic import statistic_collector\n",
    "from simpy import Environment\n",
    "import matplotlib.pyplot as plt\n",
    "import pandas\n",
    "import numpy as np\n",
    "\n",
    "# statistic_collector.unload()\n",
    "time = 500\n",
    "skip = 0\n",
    "env = Environment()\n",
    "client(env, phone_support(env), vm_deliver(env, server(env, \"server\")))\n",
    "env.run(until=time)\n",
    "statistic_collector.save()"
   ]
  },
  {
   "cell_type": "code",
   "execution_count": 2,
   "metadata": {},
   "outputs": [
    {
     "name": "stdout",
     "output_type": "stream",
     "text": [
      "clien_count: 32\n",
      "client_vms_1: [0, 1, 2, 3, 4, 5, 6, 7, 8, 9, 10, 11, 12, 13, 13, 14, 15, 15, 15, 15, 16, 17, 18, 19, 20, 21, 21, 21, 21, 22, 22, 22, 22, 22, 22, 22, 22, 22, 22, 22, 22, 22, 22, 22, 22, 22, 22, 22, 22, 22, 22, 22, 22, 23, 23, 24, 24, 24, 24, 24, 24, 24, 24, 24, 24, 24, 24, 24, 24, 24, 24, 24, 24, 24, 24, 24, 24, 24, 25, 26, 27, 28, 29, 29, 29, 29, 29, 29, 29, 29, 29, 29, 29, 29, 29, 29, 29, 29, 29, 29, 29, 29, 29, 29, 29, 29, 29, 29, 29, 29, 29, 29, 29, 29, 29, 29, 29, 29, 29, 29, 29, 29, 29, 29, 29, 29, 29, 29, 29, 29, 29, 29, 29, 29, 29, 29, 29, 29, 29, 29, 29, 29, 29, 29, 29, 29, 29, 29, 29, 29, 29, 29, 29, 29, 29, 29, 29, 29, 29, 29, 29, 29, 29, 29, 29, 29, 29, 29, 29, 29, 29, 29, 29, 29, 29, 29, 29, 29, 29, 29, 29, 29, 29, 29, 29, 29, 29, 29, 29, 29, 29, 29, 29, 29, 29, 29, 29, 30, 31, 32, 32, 32, 32, 32, 32, 32, 32, 32, 32, 32, 32, 32, 32, 32, 32, 32, 32, 32, 32, 32, 32, 32, 32, 32, 32, 32, 32, 32, 32, 32, 32, 32, 32, 32, 32, 32, 32, 32, 32, 32, 32, 32, 32, 32, 32, 32, 32, 32, 32, 32]\n",
      "break_vm: 800\n",
      "break_time_vm: [24, 30, 32, 36, 50, 50, 52, 56, 58, 58, 64, 64, 66, 66, 68, 70, 72, 74, 76, 78, 82, 82, 82, 84, 84, 86, 90, 90, 90, 92, 94, 96, 98, 98, 106, 108, 110, 110, 110, 110, 112, 114, 116, 116, 118, 118, 118, 124, 128, 130, 130, 130, 130, 132, 132, 132, 134, 136, 136, 138, 142, 142, 142, 142, 144, 144, 144, 144, 146, 148, 148, 154, 156, 164, 164, 164, 164, 164, 166, 166, 166, 166, 168, 168, 170, 172, 178, 178, 178, 180, 180, 184, 184, 186, 186, 188, 188, 188, 190, 192, 192, 192, 194, 194, 194, 196, 196, 196, 196, 200, 200, 202, 202, 202, 204, 208, 208, 208, 210, 210, 210, 212, 212, 214, 216, 216, 218, 218, 220, 222, 222, 222, 224, 224, 226, 226, 228, 230, 230, 232, 234, 234, 234, 234, 236, 236, 236, 236, 238, 240, 240, 242, 242, 244, 246, 246, 248, 250, 250, 252, 258, 260, 260, 262, 266, 268, 268, 268, 268, 268, 268, 270, 272, 272, 274, 276, 276, 280, 280, 280, 280, 282, 284, 284, 286, 288, 288, 288, 288, 290, 292, 292, 292, 294, 294, 294, 296, 296, 296, 298, 298, 300, 300, 302, 302, 302, 302, 302, 304, 306, 308, 308, 312, 312, 314, 316, 316, 316, 316, 316, 318, 318, 318, 320, 320, 320, 320, 322, 324, 326, 326, 328, 330, 332, 332, 332, 332, 332, 334, 334, 334, 336, 336, 336, 336, 336, 336, 338, 340, 342, 344, 346, 346, 348, 348, 348, 348, 350, 350, 350, 352, 352, 354, 354, 354, 356, 358, 358, 360, 360, 362, 362, 362, 362, 362, 364, 364, 364, 364, 364, 366, 366, 366, 368, 368, 368, 368, 368, 370, 370, 372, 374, 374, 374, 374, 376, 376, 376, 376, 378, 378, 378, 378, 380, 380, 380, 382, 382, 382, 384, 384, 386, 386, 386, 386, 386, 386, 388, 390, 390, 390, 390, 392, 392, 392, 392, 394, 394, 396, 396, 396, 396, 398, 398, 398, 398, 398, 398, 400, 400, 400, 402, 402, 402, 402, 402, 402, 404, 404, 404, 404, 404, 404, 404, 406, 406, 406, 406, 408, 408, 408, 408, 408, 408, 408, 410, 410, 410, 410, 410, 410, 412, 412, 412, 412, 412, 414, 414, 414, 414, 414, 414, 414, 414, 416, 416, 416, 416, 418, 418, 418, 420, 420, 420, 420, 420, 420, 420, 422, 422, 422, 422, 422, 422, 422, 424, 424, 424, 424, 424, 424, 424, 426, 426, 426, 426, 426, 426, 426, 426, 426, 428, 428, 428, 428, 430, 430, 430, 430, 430, 430, 430, 432, 432, 432, 432, 432, 432, 432, 432, 432, 434, 434, 434, 434, 434, 434, 436, 436, 436, 436, 436, 436, 436, 436, 436, 436, 438, 438, 438, 438, 438, 440, 440, 440, 440, 442, 442, 442, 442, 442, 442, 442, 442, 444, 444, 444, 444, 444, 446, 446, 446, 446, 446, 448, 448, 448, 448, 448, 448, 448, 450, 450, 450, 450, 450, 452, 452, 452, 452, 452, 452, 452, 452, 454, 454, 454, 454, 454, 454, 454, 454, 454, 454, 456, 456, 456, 456, 456, 456, 456, 456, 456, 458, 458, 458, 458, 458, 458, 458, 458, 458, 458, 460, 460, 460, 460, 460, 460, 460, 460, 460, 460, 460, 462, 462, 462, 462, 462, 464, 464, 464, 464, 464, 464, 464, 466, 466, 466, 466, 466, 466, 466, 466, 466, 466, 466, 466, 466, 466, 466, 466, 468, 468, 468, 468, 468, 468, 468, 470, 470, 470, 470, 470, 470, 470, 470, 470, 470, 470, 470, 470, 470, 470, 472, 472, 472, 472, 472, 472, 472, 472, 472, 472, 472, 474, 474, 474, 474, 474, 474, 474, 474, 474, 476, 476, 476, 476, 476, 476, 476, 478, 478, 478, 478, 478, 478, 478, 478, 478, 478, 478, 478, 478, 478, 478, 478, 478, 480, 480, 480, 480, 480, 480, 480, 480, 482, 482, 482, 482, 482, 482, 482, 482, 482, 482, 482, 482, 482, 482, 482, 482, 482, 482, 482, 482, 482, 484, 484, 484, 484, 484, 484, 484, 484, 484, 484, 484, 484, 484, 484, 486, 486, 486, 486, 486, 486, 486, 486, 486, 486, 486, 486, 486, 488, 488, 488, 488, 488, 488, 488, 488, 488, 488, 488, 488, 488, 490, 490, 490, 490, 490, 490, 490, 490, 490, 490, 490, 490, 490, 490, 490, 490, 490, 490, 490, 490, 492, 492, 492, 492, 492, 492, 492, 492, 492, 492, 492, 492, 492, 492, 494, 494, 494, 494, 494, 494, 494, 494, 494, 494, 494, 494, 494, 494, 494, 494, 494, 494, 494, 494, 494, 494, 494, 494, 494, 496, 496, 496, 496, 496, 496, 496, 496, 496, 496, 496, 496, 498, 498, 498, 498, 498, 498, 498, 498, 498, 498, 498, 498, 498, 498, 498, 498, 498, 498, 498, 498, 498, 498]\n",
      "fixing_devops: 1418\n",
      "count_fixing_devops: 709\n",
      "searched: 732\n",
      "expanded: 31\n",
      "client_vms_12: [0, 1, 2, 3, 4, 5, 5, 5, 5, 5, 6, 7, 8, 9, 9, 9, 10, 11, 12, 13, 14, 15, 15, 16, 17, 17, 17, 17, 17, 17, 17, 17, 17, 17, 17, 17, 18, 19, 19, 19, 20, 21, 21, 21, 21, 21, 21, 22, 23, 23, 24, 24, 25, 25, 25, 25, 25, 25, 25, 25, 0, 1, 2, 2, 2, 3, 4, 5, 6, 7, 7, 8, 8, 9, 10, 10, 10, 10, 10, 10, 11, 12, 12, 0, 1, 2, 0, 1, 2, 3, 3, 4, 5, 5, 0, 1, 2, 3, 4, 5, 6, 7, 8, 8, 9, 9, 10, 11, 11, 12, 13, 13, 0, 1, 2, 3, 4, 5, 5, 5, 6, 7, 8, 9, 9, 9, 10, 11, 12, 12, 13, 13, 13, 13, 13, 14, 15, 15, 15, 15, 15, 15, 15, 15, 15, 15, 16, 16, 17, 17, 17, 17, 18, 19, 19, 19, 19, 19, 19, 19, 19, 20, 20, 21, 22, 23, 24, 24, 24, 24, 25, 26, 26, 26, 26, 27, 28, 28, 28, 28, 28, 28, 28, 28, 28, 28, 28, 28, 29, 29, 29, 29, 29, 29, 30, 31, 31, 31, 31]\n",
      "break_proxmox_claster: 7\n",
      "break_time_proxmox_claster: [200, 250, 260, 320, 340, 450, 490]\n",
      "fixing_proxmox_enj: 42\n",
      "count_fixing_proxmox_enj: 7\n",
      "break_hadoop_claster: 1\n",
      "break_time_hadoop_claster: [280]\n",
      "fixing_hadoop_enj: 6\n",
      "count_fixing_hadoop_enj: 1\n",
      "client_vms_123: [0, 1, 2, 3, 4, 4, 5, 5, 6, 6, 6, 7, 8, 9, 10, 11, 11, 12, 0, 1, 2, 3, 3, 3, 3, 4, 5, 6, 7, 7, 7, 8, 9, 10, 11, 12, 12, 13, 14, 14, 14, 15, 16, 17, 18, 18, 18, 19, 19, 19, 19, 19, 20, 20, 20, 20, 21, 21, 21, 22, 23, 24, 24, 24, 24, 24, 25, 25, 26, 27, 28, 28, 29, 29, 29, 29, 29, 29, 29, 29, 29, 29, 29, 29, 29, 29, 29, 29, 29, 29, 29, 29, 29, 29, 30]\n",
      "client_vms_1234: [0, 1, 2, 3, 4, 4, 5, 6, 7, 8, 8, 9, 10, 11, 12, 13, 14, 14, 14, 14, 14, 14, 15, 15, 16, 16, 17, 18, 19, 19, 19, 19, 19, 20, 21, 21, 22, 22, 22, 23, 23, 23, 23, 23, 24, 24, 24, 24, 24, 24, 24, 24, 25, 26, 26, 26, 26, 26, 26, 26, 27, 27, 27, 27, 27, 27, 27, 27, 27, 27, 28, 29, 29, 29, 30, 30, 30, 30, 30, 30, 30, 30, 30, 30, 30]\n",
      "client_vms_12345: [0, 1, 2, 3, 3, 4, 4, 4, 5, 5, 6, 7, 7, 8, 9, 10, 10, 10, 11, 12, 12, 13, 14, 14, 15, 15, 16, 17, 17, 17, 17, 17, 17, 17, 18, 18, 18, 19, 20, 20, 20, 20, 21, 21, 22, 22, 23, 23, 23, 23, 23, 24, 24, 24, 24, 24, 24, 25, 26, 27, 27, 28, 28, 29, 30, 30, 30, 30]\n",
      "client_vms_12346: [0, 1, 2, 3, 4, 5, 6, 7, 7, 8, 9, 9, 10, 10, 11, 12, 12, 13, 14, 14, 15, 15, 15, 16, 17, 18, 18, 18, 18, 18, 18, 18, 18, 18, 18, 18, 18, 19, 20, 21, 22, 23, 24, 25, 26, 26, 26, 26, 26, 26, 26, 26, 26, 26, 26, 26, 26, 26, 26, 26, 26, 26, 26, 26]\n",
      "client_vms_17: [0, 1, 2, 3, 4, 5, 5, 6, 7, 8, 9, 9, 9, 10, 10, 11, 11, 12, 13, 14, 15, 15, 15, 15, 15, 16, 17, 17, 17, 18, 18, 19, 20, 20, 20, 20, 20, 21, 21, 22, 22, 22, 22, 22, 22, 22, 22, 22, 22, 22, 22, 22, 22, 22, 22, 22, 22, 22]\n",
      "client_vms_123468: [0, 1, 2, 3, 4, 5, 6, 7, 8, 8, 9, 10, 11, 12, 13, 14, 15, 15, 16, 17, 18, 19, 19, 20, 20, 20, 20, 21, 21, 22, 23, 23, 24, 24, 24, 24, 24, 24, 25, 26, 26, 26, 26, 26, 26, 26, 26, 26, 27, 27, 27, 27, 27, 27, 27, 28]\n",
      "client_vms_179: [0, 1, 2, 3, 4, 5, 6, 6, 6, 6, 7, 7, 7, 7, 8, 9, 10, 11, 12, 13, 0, 1, 2, 2, 3, 4, 5, 6, 7, 7, 7, 8, 9, 9, 10, 10, 10, 11, 11, 12, 12, 12]\n",
      "client_vms_180: [0, 1, 2, 3, 4, 5, 5, 6, 7, 8, 9, 9, 10, 11, 12, 12, 13, 14, 14, 15, 16, 17, 18, 18, 19, 20, 21, 22, 23, 23, 23, 24, 24, 25, 25, 25, 25]\n",
      "client_vms_1801: [0, 1, 2, 3, 4, 4, 5, 5, 5, 5, 5, 6, 7, 7, 7, 7, 8, 9, 10, 11, 11, 12, 13, 14, 15, 15, 16, 16, 16, 16, 17, 17, 17, 18, 19, 20]\n",
      "client_vms_123462: [0, 1, 2, 3, 4, 5, 6, 7, 8, 9, 9, 9, 10, 11, 12, 13, 14, 15, 16, 17, 18, 18, 18, 18, 19, 19, 20, 21, 21, 21, 21, 22, 23, 23, 24, 25]\n",
      "client_vms_1803: [0, 1, 1, 2, 3, 4, 5, 6, 7, 8, 9, 10, 11, 11, 12, 13, 13, 14, 14, 14, 14, 14, 14, 14, 14, 14, 15, 15, 15, 15, 15]\n",
      "client_vms_24: [0, 1, 2, 3, 3, 4, 5, 6, 7, 7, 7, 7, 7, 8, 9, 10, 10, 11, 11, 12, 13, 14, 15, 16, 16, 16, 16, 17, 18, 18, 18]\n",
      "client_vms_1815: [0, 1, 1, 2, 3, 4, 4, 5, 6, 7, 8, 9, 10, 11, 11, 12, 12, 13, 14, 14, 14, 14, 14, 14, 14, 14, 15, 15]\n",
      "client_vms_26: [0, 1, 2, 3, 4, 5, 6, 6, 7, 8, 9, 9, 9, 10, 11, 12, 13, 14, 14, 14, 14, 14]\n",
      "client_vms_257: [0, 1, 2, 2, 3, 3, 3, 3, 4, 4, 5, 6, 7, 8, 9, 10, 11, 11, 11, 11, 11]\n",
      "client_vms_188: [0, 1, 1, 2, 3, 4, 5, 6, 7, 8, 9, 10, 10, 10, 10, 11, 12, 13, 13, 14]\n",
      "client_vms_139: [0, 1, 2, 3, 4, 4, 4, 4, 5, 6, 7, 7, 8, 8, 9, 10, 10, 10]\n",
      "client_vms_280: [0, 1, 2, 3, 4, 5, 6, 7, 7, 7, 8, 9, 10, 11]\n",
      "client_vms_18031: [0, 1, 2, 3, 4, 5, 5, 6, 7, 8, 9, 10]\n",
      "client_vms_262: [0, 1, 2, 2, 3, 4, 5, 6, 7, 8, 9, 10]\n",
      "client_vms_193: [0, 1, 2, 3, 4, 5, 6, 6, 7, 7, 8]\n",
      "client_vms_264: [0, 1, 2, 3, 4, 5, 0, 1]\n",
      "client_vms_1255: [0, 1, 1, 2, 3, 4, 5, 6]\n",
      "client_vms_266: [0, 1, 1, 1, 2, 3, 4]\n",
      "client_vms_1417: [0, 1, 2, 3, 3, 4, 4]\n",
      "client_vms_38: [0, 1, 2, 3, 4, 5, 6]\n",
      "client_vms_1909: [0, 1, 2, 2, 3, 4]\n",
      "client_vms_150: [0, 1, 2, 3, 4, 4]\n",
      "client_vms_271: [0]\n",
      "client_vms_12372: [0]\n"
     ]
    }
   ],
   "source": [
    "for key in statistic_collector.load:\n",
    "    print(f\"{key}: {statistic_collector.load[key]}\")"
   ]
  },
  {
   "cell_type": "code",
   "execution_count": 3,
   "metadata": {},
   "outputs": [
    {
     "data": {
      "text/html": [
       "<div>\n",
       "<style scoped>\n",
       "    .dataframe tbody tr th:only-of-type {\n",
       "        vertical-align: middle;\n",
       "    }\n",
       "\n",
       "    .dataframe tbody tr th {\n",
       "        vertical-align: top;\n",
       "    }\n",
       "\n",
       "    .dataframe thead th {\n",
       "        text-align: right;\n",
       "    }\n",
       "</style>\n",
       "<table border=\"1\" class=\"dataframe\">\n",
       "  <thead>\n",
       "    <tr style=\"text-align: right;\">\n",
       "      <th></th>\n",
       "      <th>client_vms_1</th>\n",
       "      <th>client_vms_12</th>\n",
       "      <th>client_vms_123</th>\n",
       "      <th>client_vms_1234</th>\n",
       "      <th>client_vms_12345</th>\n",
       "      <th>client_vms_12346</th>\n",
       "      <th>client_vms_17</th>\n",
       "      <th>client_vms_123468</th>\n",
       "      <th>client_vms_179</th>\n",
       "      <th>client_vms_180</th>\n",
       "      <th>...</th>\n",
       "      <th>client_vms_193</th>\n",
       "      <th>client_vms_264</th>\n",
       "      <th>client_vms_1255</th>\n",
       "      <th>client_vms_266</th>\n",
       "      <th>client_vms_1417</th>\n",
       "      <th>client_vms_38</th>\n",
       "      <th>client_vms_1909</th>\n",
       "      <th>client_vms_150</th>\n",
       "      <th>mean</th>\n",
       "      <th>sum</th>\n",
       "    </tr>\n",
       "  </thead>\n",
       "  <tbody>\n",
       "    <tr>\n",
       "      <th>0</th>\n",
       "      <td>0</td>\n",
       "      <td>NaN</td>\n",
       "      <td>NaN</td>\n",
       "      <td>NaN</td>\n",
       "      <td>NaN</td>\n",
       "      <td>NaN</td>\n",
       "      <td>NaN</td>\n",
       "      <td>NaN</td>\n",
       "      <td>NaN</td>\n",
       "      <td>NaN</td>\n",
       "      <td>...</td>\n",
       "      <td>NaN</td>\n",
       "      <td>NaN</td>\n",
       "      <td>NaN</td>\n",
       "      <td>NaN</td>\n",
       "      <td>NaN</td>\n",
       "      <td>NaN</td>\n",
       "      <td>NaN</td>\n",
       "      <td>NaN</td>\n",
       "      <td>0.0</td>\n",
       "      <td>0.0</td>\n",
       "    </tr>\n",
       "    <tr>\n",
       "      <th>1</th>\n",
       "      <td>1</td>\n",
       "      <td>NaN</td>\n",
       "      <td>NaN</td>\n",
       "      <td>NaN</td>\n",
       "      <td>NaN</td>\n",
       "      <td>NaN</td>\n",
       "      <td>NaN</td>\n",
       "      <td>NaN</td>\n",
       "      <td>NaN</td>\n",
       "      <td>NaN</td>\n",
       "      <td>...</td>\n",
       "      <td>NaN</td>\n",
       "      <td>NaN</td>\n",
       "      <td>NaN</td>\n",
       "      <td>NaN</td>\n",
       "      <td>NaN</td>\n",
       "      <td>NaN</td>\n",
       "      <td>NaN</td>\n",
       "      <td>NaN</td>\n",
       "      <td>1.0</td>\n",
       "      <td>2.0</td>\n",
       "    </tr>\n",
       "    <tr>\n",
       "      <th>2</th>\n",
       "      <td>2</td>\n",
       "      <td>NaN</td>\n",
       "      <td>NaN</td>\n",
       "      <td>NaN</td>\n",
       "      <td>NaN</td>\n",
       "      <td>NaN</td>\n",
       "      <td>NaN</td>\n",
       "      <td>NaN</td>\n",
       "      <td>NaN</td>\n",
       "      <td>NaN</td>\n",
       "      <td>...</td>\n",
       "      <td>NaN</td>\n",
       "      <td>NaN</td>\n",
       "      <td>NaN</td>\n",
       "      <td>NaN</td>\n",
       "      <td>NaN</td>\n",
       "      <td>NaN</td>\n",
       "      <td>NaN</td>\n",
       "      <td>NaN</td>\n",
       "      <td>2.0</td>\n",
       "      <td>4.0</td>\n",
       "    </tr>\n",
       "    <tr>\n",
       "      <th>3</th>\n",
       "      <td>3</td>\n",
       "      <td>NaN</td>\n",
       "      <td>NaN</td>\n",
       "      <td>NaN</td>\n",
       "      <td>NaN</td>\n",
       "      <td>NaN</td>\n",
       "      <td>NaN</td>\n",
       "      <td>NaN</td>\n",
       "      <td>NaN</td>\n",
       "      <td>NaN</td>\n",
       "      <td>...</td>\n",
       "      <td>NaN</td>\n",
       "      <td>NaN</td>\n",
       "      <td>NaN</td>\n",
       "      <td>NaN</td>\n",
       "      <td>NaN</td>\n",
       "      <td>NaN</td>\n",
       "      <td>NaN</td>\n",
       "      <td>NaN</td>\n",
       "      <td>3.0</td>\n",
       "      <td>6.0</td>\n",
       "    </tr>\n",
       "    <tr>\n",
       "      <th>4</th>\n",
       "      <td>4</td>\n",
       "      <td>NaN</td>\n",
       "      <td>NaN</td>\n",
       "      <td>NaN</td>\n",
       "      <td>NaN</td>\n",
       "      <td>NaN</td>\n",
       "      <td>NaN</td>\n",
       "      <td>NaN</td>\n",
       "      <td>NaN</td>\n",
       "      <td>NaN</td>\n",
       "      <td>...</td>\n",
       "      <td>NaN</td>\n",
       "      <td>NaN</td>\n",
       "      <td>NaN</td>\n",
       "      <td>NaN</td>\n",
       "      <td>NaN</td>\n",
       "      <td>NaN</td>\n",
       "      <td>NaN</td>\n",
       "      <td>NaN</td>\n",
       "      <td>4.0</td>\n",
       "      <td>8.0</td>\n",
       "    </tr>\n",
       "  </tbody>\n",
       "</table>\n",
       "<p>5 rows × 32 columns</p>\n",
       "</div>"
      ],
      "text/plain": [
       "   client_vms_1  client_vms_12  client_vms_123  client_vms_1234  \\\n",
       "0             0            NaN             NaN              NaN   \n",
       "1             1            NaN             NaN              NaN   \n",
       "2             2            NaN             NaN              NaN   \n",
       "3             3            NaN             NaN              NaN   \n",
       "4             4            NaN             NaN              NaN   \n",
       "\n",
       "   client_vms_12345  client_vms_12346  client_vms_17  client_vms_123468  \\\n",
       "0               NaN               NaN            NaN                NaN   \n",
       "1               NaN               NaN            NaN                NaN   \n",
       "2               NaN               NaN            NaN                NaN   \n",
       "3               NaN               NaN            NaN                NaN   \n",
       "4               NaN               NaN            NaN                NaN   \n",
       "\n",
       "   client_vms_179  client_vms_180  ...  client_vms_193  client_vms_264  \\\n",
       "0             NaN             NaN  ...             NaN             NaN   \n",
       "1             NaN             NaN  ...             NaN             NaN   \n",
       "2             NaN             NaN  ...             NaN             NaN   \n",
       "3             NaN             NaN  ...             NaN             NaN   \n",
       "4             NaN             NaN  ...             NaN             NaN   \n",
       "\n",
       "   client_vms_1255  client_vms_266  client_vms_1417  client_vms_38  \\\n",
       "0              NaN             NaN              NaN            NaN   \n",
       "1              NaN             NaN              NaN            NaN   \n",
       "2              NaN             NaN              NaN            NaN   \n",
       "3              NaN             NaN              NaN            NaN   \n",
       "4              NaN             NaN              NaN            NaN   \n",
       "\n",
       "   client_vms_1909  client_vms_150  mean  sum  \n",
       "0              NaN             NaN   0.0  0.0  \n",
       "1              NaN             NaN   1.0  2.0  \n",
       "2              NaN             NaN   2.0  4.0  \n",
       "3              NaN             NaN   3.0  6.0  \n",
       "4              NaN             NaN   4.0  8.0  \n",
       "\n",
       "[5 rows x 32 columns]"
      ]
     },
     "execution_count": 3,
     "metadata": {},
     "output_type": "execute_result"
    }
   ],
   "source": [
    "df = pandas.DataFrame()\n",
    "import warnings\n",
    "warnings.filterwarnings(\"ignore\")\n",
    "for key in statistic_collector.load:\n",
    "    if key[:10] == \"client_vms\":\n",
    "        if len(statistic_collector.load[key]) == 1 and statistic_collector.load[key][0] == 0:\n",
    "            continue\n",
    "        # plt.plot(statistic_collector.load[key])\n",
    "        x = [np.NaN] * (time // 2 - len(statistic_collector.load[key])) + statistic_collector.load[key]\n",
    "        df[key] = np.array(x)\n",
    "        \n",
    "df['mean'] = df.mean(axis=1)        \n",
    "df[\"sum\"] = df.sum(axis=1)\n",
    "df1 = df.iloc[skip:]\n",
    "df.head()\n"
   ]
  },
  {
   "cell_type": "code",
   "execution_count": 4,
   "metadata": {},
   "outputs": [
    {
     "data": {
      "text/plain": [
       "<matplotlib.collections.LineCollection at 0x214488628a0>"
      ]
     },
     "execution_count": 4,
     "metadata": {},
     "output_type": "execute_result"
    },
    {
     "data": {
      "image/png": "[encoded data removed]",
      "text/plain": [
       "<Figure size 640x480 with 1 Axes>"
      ]
     },
     "metadata": {},
     "output_type": "display_data"
    }
   ],
   "source": [
    "plt.plot(df['sum'])\n",
    "plt.vlines([x // 2 for x in statistic_collector.load[\"break_time_vm\"]], 0, df['sum'].max() // 15, 'g')\n",
    "plt.vlines([x // 2 for x in statistic_collector.load[\"break_time_hadoop_claster\"]], 0, df['sum'].max() // 15, 'r')\n",
    "plt.vlines([x // 2 for x in statistic_collector.load[\"break_time_proxmox_claster\"]], 0, df['sum'].max() // 15, 'r')"
   ]
  },
  {
   "cell_type": "code",
   "execution_count": 5,
   "metadata": {},
   "outputs": [
    {
     "data": {
      "text/plain": [
       "<matplotlib.collections.LineCollection at 0x2144aa41a00>"
      ]
     },
     "execution_count": 5,
     "metadata": {},
     "output_type": "execute_result"
    },
    {
     "data": {
      "image/png": "[encoded data removed]",
      "text/plain": [
       "<Figure size 640x480 with 1 Axes>"
      ]
     },
     "metadata": {},
     "output_type": "display_data"
    }
   ],
   "source": [
    "plt.plot(df['mean'])\n",
    "plt.vlines([x // 2 - skip for x in statistic_collector.load[\"break_time_vm\"]], 0, df['mean'].max() / 10, 'g')\n",
    "plt.vlines([x // 2 - skip for x in statistic_collector.load[\"break_time_hadoop_claster\"]], 0, df['mean'].max() / 10, 'y')\n",
    "plt.vlines([x // 2 - skip for x in statistic_collector.load[\"break_time_proxmox_claster\"]], 0, df['mean'].max() / 10, 'r')"
   ]
  },
  {
   "cell_type": "code",
   "execution_count": 6,
   "metadata": {},
   "outputs": [
    {
     "data": {
      "text/plain": [
       "16.91987129248954"
      ]
     },
     "execution_count": 6,
     "metadata": {},
     "output_type": "execute_result"
    }
   ],
   "source": [
    "df['mean'].mean()"
   ]
  }
 ],
 "metadata": {
  "kernelspec": {
   "display_name": "Python 3",
   "language": "python",
   "name": "python3"
  },
  "language_info": {
   "codemirror_mode": {
    "name": "ipython",
    "version": 3
   },
   "file_extension": ".py",
   "mimetype": "text/x-python",
   "name": "python",
   "nbconvert_exporter": "python",
   "pygments_lexer": "ipython3",
   "version": "3.12.1"
  }
 },
 "nbformat": 4,
 "nbformat_minor": 2
}
