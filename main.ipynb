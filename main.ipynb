{
 "cells": [
  {
   "cell_type": "code",
   "execution_count": 1,
   "metadata": {},
   "outputs": [],
   "source": [
    "from client_side.client import client\n",
    "from server_side.workers import phone_support\n",
    "from server_side.vm import vm_deliver\n",
    "from server_side.server import server\n",
    "from settings.statistic import statistic_collector\n",
    "from simpy import Environment\n",
    "import matplotlib.pyplot as plt\n",
    "\n",
    "env = Environment()\n",
    "client(env, phone_support(env), vm_deliver(env, server(env, \"server\")))\n",
    "env.run(until=200)\n",
    "statistic_collector.save()"
   ]
  },
  {
   "cell_type": "code",
   "execution_count": 2,
   "metadata": {},
   "outputs": [
    {
     "name": "stdout",
     "output_type": "stream",
     "text": [
      "clien_count: 23\n",
      "client_vms_1: [0, 1, 2, 3, 0, 1, 2, 3, 4, 5, 6, 7, 8, 0, 1, 2, 3, 4, 5, 6, 0, 1, 2, 0, 1, 2, 3, 4, 5, 6, 7, 8, 0, 1, 2, 3, 4, 5, 6, 0, 1, 2, 3, 4, 5, 0, 1, 2, 0, 1, 2, 3, 4, 5, 6, 7, 8, 9, 10, 0, 1, 2, 0, 1, 2, 3, 4, 5, 6, 7, 8, 9, 10, 0, 1, 2, 3, 4, 0, 1, 0, 1, 2, 0, 1, 2, 3, 4, 5, 6, 7, 8, 9]\n",
      "break_vm: 288\n",
      "fixing_devops: 285\n",
      "count_fixing_devops: 95\n",
      "searched: 97\n",
      "expanded: 22\n",
      "client_vms_12: [0, 1, 2, 3, 4, 5, 0, 1, 0, 1, 2, 3, 4, 5, 6, 7, 8, 0, 1, 2, 3, 4, 5, 6, 7, 8, 9, 10, 11, 0, 1, 2, 3, 4, 5, 6, 7, 8, 0, 1, 2, 3, 0, 1, 2, 3, 4, 5, 6, 7, 0, 1, 2, 3, 4, 5, 6, 7, 8, 9, 0, 1, 2, 3, 4, 5, 6, 7, 8, 9, 10, 0, 1, 2, 3, 4, 5, 0, 1, 0, 1, 2]\n",
      "client_vms_123: [0, 1, 2, 3, 4, 5, 6, 7, 8, 9, 10, 11, 0, 1, 2, 3, 0, 1, 2, 0, 1, 2, 3, 4, 5, 6, 0, 1, 2, 3, 4, 5, 6, 7, 8, 0, 1, 2, 3, 4, 5, 6, 0, 1, 0, 1, 2, 3, 4, 5, 6, 0, 1, 2, 3, 4]\n",
      "client_vms_124: [0, 1, 2, 3, 4, 5, 6, 7, 0, 1, 2, 3, 4, 5, 6, 7, 8, 9, 0, 1, 2, 0, 1, 2, 3, 4, 5, 6, 0, 1, 0, 1, 2, 3, 4, 5, 6, 0, 1, 2, 3, 4, 5, 0, 1, 0, 1, 2, 0, 1, 2, 0, 1, 2]\n",
      "client_vms_1245: [0, 1, 2, 3, 4, 5, 6, 7, 8, 9, 10, 11, 12, 0, 1, 2, 3, 4, 5, 6, 7, 0, 1, 2, 3, 4, 5, 6, 0, 1, 2, 3, 4, 5, 0, 1, 0, 1, 2, 3, 4, 5, 0, 1, 2, 3, 4, 5, 0, 1, 2]\n",
      "client_vms_1236: [0, 1, 2, 0, 1, 2, 3, 4, 5, 0, 1, 0, 1, 2, 3, 4, 5, 6, 0, 1, 2, 3, 4, 5, 6, 7, 0, 1, 0, 1, 2, 0, 1, 2, 0, 1, 0, 1, 2, 3, 4, 5, 0, 1, 2, 0, 1, 2, 3]\n",
      "client_vms_127: [0, 1, 2, 3, 0, 1, 2, 3, 4, 5, 6, 7, 8, 9, 10, 0, 1, 2, 3, 4, 0, 1, 2, 3, 0, 1, 2, 3, 4, 5, 6, 7, 8]\n",
      "client_vms_1238: [0, 1, 2, 3, 4, 5, 0, 1, 2, 3, 4, 5, 6, 7, 8, 9, 10, 11, 12, 13, 0, 1, 0, 1, 2, 3, 4, 5, 6, 7, 8, 9, 10, 11]\n",
      "client_vms_1239: [0, 1, 0, 1, 2, 0, 1, 2, 3, 4, 5, 6, 0, 1, 2, 0, 1, 2, 3, 4, 5, 6, 7, 8, 9, 10, 11, 12, 13, 14, 0]\n",
      "client_vms_20: [0, 1, 2, 3, 4, 5, 6, 7, 0, 1, 0, 1, 2, 0, 1, 2, 3, 4, 5, 0, 1, 2, 3, 4, 5, 6, 7]\n",
      "client_vms_21: [0, 1, 2, 3, 4, 5, 6, 0, 1, 2, 3, 4, 5, 6, 0, 1, 2, 3, 0, 1, 2, 3, 4, 5, 6, 0]\n",
      "break_hadoop_claster: 1\n",
      "fixing_hadoop_enj: 3\n",
      "count_fixing_hadoop_enj: 1\n",
      "client_vms_1242: [0, 1, 2, 3, 0, 1, 2, 3, 0, 1, 2, 3, 4, 5, 6, 7, 0, 1, 2, 3, 4, 5, 6, 7]\n",
      "client_vms_12393: [0, 1, 2, 3, 4, 0, 1, 2, 3, 4, 5, 6, 7, 8, 9, 10, 11, 12, 13, 14, 15]\n",
      "client_vms_12464: [0, 1, 2, 3, 4, 5, 6, 7, 8, 9, 0, 1, 0, 1, 2, 3, 4, 5, 6]\n",
      "client_vms_1255: [0, 1, 2, 3, 0, 1, 2, 3, 4, 5, 6, 0, 1]\n",
      "client_vms_12436: [0, 1, 2, 0, 1, 2, 3, 4, 5, 6, 7]\n",
      "client_vms_12397: [0, 1, 0, 1, 2, 3]\n",
      "client_vms_28: [0, 1, 2, 3, 0, 1]\n",
      "client_vms_29: [0, 1, 2, 3, 4]\n",
      "client_vms_12470: [0, 1, 2, 0]\n",
      "client_vms_231: [0, 1, 2, 3]\n",
      "client_vms_12442: [0, 1, 2]\n",
      "client_vms_12403: [0, 1]\n"
     ]
    }
   ],
   "source": [
    "for key in statistic_collector.load:\n",
    "    print(f\"{key}: {statistic_collector.load[key]}\")"
   ]
  },
  {
   "cell_type": "code",
   "execution_count": 3,
   "metadata": {},
   "outputs": [],
   "source": [
    "for key in "
   ]
  }
 ],
 "metadata": {
  "kernelspec": {
   "display_name": "Python 3",
   "language": "python",
   "name": "python3"
  },
  "language_info": {
   "codemirror_mode": {
    "name": "ipython",
    "version": 3
   },
   "file_extension": ".py",
   "mimetype": "text/x-python",
   "name": "python",
   "nbconvert_exporter": "python",
   "pygments_lexer": "ipython3",
   "version": "3.12.1"
  }
 },
 "nbformat": 4,
 "nbformat_minor": 2
}
